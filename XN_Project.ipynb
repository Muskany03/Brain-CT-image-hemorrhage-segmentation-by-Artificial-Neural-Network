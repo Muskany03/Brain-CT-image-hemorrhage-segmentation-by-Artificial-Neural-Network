{
 "cells": [
  {
   "cell_type": "markdown",
   "id": "ed630b6d",
   "metadata": {},
   "source": [
    "# Machine Learning Final Project\n",
    "#### Erik Wilder, Sarah Dietch, Bowen Ma, Muskan Yadav"
   ]
  },
  {
   "cell_type": "code",
   "execution_count": 47,
   "id": "34a67f2b",
   "metadata": {},
   "outputs": [],
   "source": [
    "import os\n",
    "import sys\n",
    "import warnings\n",
    "warnings.filterwarnings('ignore')\n",
    "import itertools\n",
    "\n",
    "import pandas as pd\n",
    "import numpy as np\n",
    "\n",
    "import matplotlib\n",
    "from matplotlib import pyplot as plt\n",
    "\n",
    "import seaborn as sns\n",
    "\n",
    "import tensorflow as tf\n",
    "from tensorflow import keras\n",
    "from keras import layers, callbacks\n",
    "from keras.models import Sequential\n",
    "from keras.layers import *\n",
    "from keras.layers import Dense, Activation, Dropout, Flatten, MaxPooling2D, Conv2D, BatchNormalization\n",
    "from keras.callbacks import EarlyStopping\n",
    "from keras.utils import np_utils\n",
    "from keras.applications.vgg16 import VGG16\n",
    "from keras.applications.vgg19 import VGG19\n",
    "\n",
    "import sklearn\n",
    "from sklearn.model_selection import train_test_split\n",
    "from sklearn.preprocessing import StandardScaler\n",
    "from sklearn.linear_model import Perceptron, LinearRegression, LogisticRegression\n",
    "from sklearn.discriminant_analysis import LinearDiscriminantAnalysis, QuadraticDiscriminantAnalysis\n",
    "from sklearn.metrics import confusion_matrix, accuracy_score"
   ]
  },
  {
   "cell_type": "code",
   "execution_count": 2,
   "id": "89b479eb",
   "metadata": {},
   "outputs": [
    {
     "data": {
      "text/html": [
       "<div>\n",
       "<style scoped>\n",
       "    .dataframe tbody tr th:only-of-type {\n",
       "        vertical-align: middle;\n",
       "    }\n",
       "\n",
       "    .dataframe tbody tr th {\n",
       "        vertical-align: top;\n",
       "    }\n",
       "\n",
       "    .dataframe thead th {\n",
       "        text-align: right;\n",
       "    }\n",
       "</style>\n",
       "<table border=\"1\" class=\"dataframe\">\n",
       "  <thead>\n",
       "    <tr style=\"text-align: right;\">\n",
       "      <th></th>\n",
       "      <th>Image</th>\n",
       "      <th>any</th>\n",
       "      <th>epidural</th>\n",
       "      <th>intraparenchymal</th>\n",
       "      <th>intraventricular</th>\n",
       "      <th>subarachnoid</th>\n",
       "      <th>subdural</th>\n",
       "    </tr>\n",
       "  </thead>\n",
       "  <tbody>\n",
       "    <tr>\n",
       "      <th>0</th>\n",
       "      <td>ID_000012eaf</td>\n",
       "      <td>0</td>\n",
       "      <td>0</td>\n",
       "      <td>0</td>\n",
       "      <td>0</td>\n",
       "      <td>0</td>\n",
       "      <td>0</td>\n",
       "    </tr>\n",
       "    <tr>\n",
       "      <th>1</th>\n",
       "      <td>ID_000039fa0</td>\n",
       "      <td>0</td>\n",
       "      <td>0</td>\n",
       "      <td>0</td>\n",
       "      <td>0</td>\n",
       "      <td>0</td>\n",
       "      <td>0</td>\n",
       "    </tr>\n",
       "    <tr>\n",
       "      <th>2</th>\n",
       "      <td>ID_00005679d</td>\n",
       "      <td>0</td>\n",
       "      <td>0</td>\n",
       "      <td>0</td>\n",
       "      <td>0</td>\n",
       "      <td>0</td>\n",
       "      <td>0</td>\n",
       "    </tr>\n",
       "    <tr>\n",
       "      <th>3</th>\n",
       "      <td>ID_00008ce3c</td>\n",
       "      <td>0</td>\n",
       "      <td>0</td>\n",
       "      <td>0</td>\n",
       "      <td>0</td>\n",
       "      <td>0</td>\n",
       "      <td>0</td>\n",
       "    </tr>\n",
       "    <tr>\n",
       "      <th>4</th>\n",
       "      <td>ID_0000950d7</td>\n",
       "      <td>0</td>\n",
       "      <td>0</td>\n",
       "      <td>0</td>\n",
       "      <td>0</td>\n",
       "      <td>0</td>\n",
       "      <td>0</td>\n",
       "    </tr>\n",
       "  </tbody>\n",
       "</table>\n",
       "</div>"
      ],
      "text/plain": [
       "          Image  any  epidural  intraparenchymal  intraventricular  \\\n",
       "0  ID_000012eaf    0         0                 0                 0   \n",
       "1  ID_000039fa0    0         0                 0                 0   \n",
       "2  ID_00005679d    0         0                 0                 0   \n",
       "3  ID_00008ce3c    0         0                 0                 0   \n",
       "4  ID_0000950d7    0         0                 0                 0   \n",
       "\n",
       "   subarachnoid  subdural  \n",
       "0             0         0  \n",
       "1             0         0  \n",
       "2             0         0  \n",
       "3             0         0  \n",
       "4             0         0  "
      ]
     },
     "metadata": {},
     "output_type": "display_data"
    }
   ],
   "source": [
    "file_dir = 'C:/Users/ewild/Documents/School/2022 Spring/7243 - Machine Learning/Project/XN_Project/XN_Project/'\n",
    "os.chdir(file_dir)\n",
    "\n",
    "labels = pd.read_csv(file_dir + 'hemorrhage-labels.csv')\n",
    "display(labels.head())\n",
    "\n",
    "epid = pd.read_csv(file_dir + 'Results_Epidural.csv') \n",
    "intrap = pd.read_csv(file_dir + 'Results_Intraparenchymal.csv') \n",
    "multi = pd.read_csv(file_dir + 'Results_Multiple.csv') \n",
    "suba = pd.read_csv(file_dir + 'Results_Subarachnoid.csv') \n",
    "subd = pd.read_csv(file_dir + 'Results_Subdural.csv') \n",
    "\n",
    "# NOTE: seems that the intraventricular Results .csv was not uploaded to Canvas, we need to ask Wang\n",
    "\n",
    "# Per Prof. Wang: \"Majority Label should be used\"\n",
    "#display(epid.head())\n",
    "#display(intrap.head())\n",
    "#display(multi.head())\n",
    "#display(suba.head())\n",
    "#display(subd.head())"
   ]
  },
  {
   "cell_type": "markdown",
   "id": "1062a38d",
   "metadata": {},
   "source": [
    "## Data Cleaning & Filters"
   ]
  },
  {
   "cell_type": "code",
   "execution_count": 3,
   "id": "650028e0",
   "metadata": {},
   "outputs": [
    {
     "data": {
      "text/html": [
       "<div>\n",
       "<style scoped>\n",
       "    .dataframe tbody tr th:only-of-type {\n",
       "        vertical-align: middle;\n",
       "    }\n",
       "\n",
       "    .dataframe tbody tr th {\n",
       "        vertical-align: top;\n",
       "    }\n",
       "\n",
       "    .dataframe thead th {\n",
       "        text-align: right;\n",
       "    }\n",
       "</style>\n",
       "<table border=\"1\" class=\"dataframe\">\n",
       "  <thead>\n",
       "    <tr style=\"text-align: right;\">\n",
       "      <th></th>\n",
       "      <th>Image</th>\n",
       "      <th>any</th>\n",
       "      <th>epidural</th>\n",
       "      <th>intraparenchymal</th>\n",
       "      <th>intraventricular</th>\n",
       "      <th>subarachnoid</th>\n",
       "      <th>subdural</th>\n",
       "      <th>category</th>\n",
       "    </tr>\n",
       "  </thead>\n",
       "  <tbody>\n",
       "    <tr>\n",
       "      <th>0</th>\n",
       "      <td>ID_000012eaf.jpg</td>\n",
       "      <td>0</td>\n",
       "      <td>0</td>\n",
       "      <td>0</td>\n",
       "      <td>0</td>\n",
       "      <td>0</td>\n",
       "      <td>0</td>\n",
       "      <td>0</td>\n",
       "    </tr>\n",
       "    <tr>\n",
       "      <th>1</th>\n",
       "      <td>ID_000039fa0.jpg</td>\n",
       "      <td>0</td>\n",
       "      <td>0</td>\n",
       "      <td>0</td>\n",
       "      <td>0</td>\n",
       "      <td>0</td>\n",
       "      <td>0</td>\n",
       "      <td>0</td>\n",
       "    </tr>\n",
       "    <tr>\n",
       "      <th>2</th>\n",
       "      <td>ID_00005679d.jpg</td>\n",
       "      <td>0</td>\n",
       "      <td>0</td>\n",
       "      <td>0</td>\n",
       "      <td>0</td>\n",
       "      <td>0</td>\n",
       "      <td>0</td>\n",
       "      <td>0</td>\n",
       "    </tr>\n",
       "    <tr>\n",
       "      <th>3</th>\n",
       "      <td>ID_00008ce3c.jpg</td>\n",
       "      <td>0</td>\n",
       "      <td>0</td>\n",
       "      <td>0</td>\n",
       "      <td>0</td>\n",
       "      <td>0</td>\n",
       "      <td>0</td>\n",
       "      <td>0</td>\n",
       "    </tr>\n",
       "    <tr>\n",
       "      <th>4</th>\n",
       "      <td>ID_0000950d7.jpg</td>\n",
       "      <td>0</td>\n",
       "      <td>0</td>\n",
       "      <td>0</td>\n",
       "      <td>0</td>\n",
       "      <td>0</td>\n",
       "      <td>0</td>\n",
       "      <td>0</td>\n",
       "    </tr>\n",
       "    <tr>\n",
       "      <th>...</th>\n",
       "      <td>...</td>\n",
       "      <td>...</td>\n",
       "      <td>...</td>\n",
       "      <td>...</td>\n",
       "      <td>...</td>\n",
       "      <td>...</td>\n",
       "      <td>...</td>\n",
       "      <td>...</td>\n",
       "    </tr>\n",
       "    <tr>\n",
       "      <th>752798</th>\n",
       "      <td>ID_ffff82e46.jpg</td>\n",
       "      <td>0</td>\n",
       "      <td>0</td>\n",
       "      <td>0</td>\n",
       "      <td>0</td>\n",
       "      <td>0</td>\n",
       "      <td>0</td>\n",
       "      <td>0</td>\n",
       "    </tr>\n",
       "    <tr>\n",
       "      <th>752799</th>\n",
       "      <td>ID_ffff922b9.jpg</td>\n",
       "      <td>1</td>\n",
       "      <td>0</td>\n",
       "      <td>0</td>\n",
       "      <td>1</td>\n",
       "      <td>0</td>\n",
       "      <td>0</td>\n",
       "      <td>3</td>\n",
       "    </tr>\n",
       "    <tr>\n",
       "      <th>752800</th>\n",
       "      <td>ID_ffffb670a.jpg</td>\n",
       "      <td>1</td>\n",
       "      <td>0</td>\n",
       "      <td>0</td>\n",
       "      <td>0</td>\n",
       "      <td>1</td>\n",
       "      <td>0</td>\n",
       "      <td>4</td>\n",
       "    </tr>\n",
       "    <tr>\n",
       "      <th>752801</th>\n",
       "      <td>ID_ffffcbff8.jpg</td>\n",
       "      <td>0</td>\n",
       "      <td>0</td>\n",
       "      <td>0</td>\n",
       "      <td>0</td>\n",
       "      <td>0</td>\n",
       "      <td>0</td>\n",
       "      <td>0</td>\n",
       "    </tr>\n",
       "    <tr>\n",
       "      <th>752802</th>\n",
       "      <td>ID_fffff9393.jpg</td>\n",
       "      <td>0</td>\n",
       "      <td>0</td>\n",
       "      <td>0</td>\n",
       "      <td>0</td>\n",
       "      <td>0</td>\n",
       "      <td>0</td>\n",
       "      <td>0</td>\n",
       "    </tr>\n",
       "  </tbody>\n",
       "</table>\n",
       "<p>752803 rows × 8 columns</p>\n",
       "</div>"
      ],
      "text/plain": [
       "                   Image  any  epidural  intraparenchymal  intraventricular  \\\n",
       "0       ID_000012eaf.jpg    0         0                 0                 0   \n",
       "1       ID_000039fa0.jpg    0         0                 0                 0   \n",
       "2       ID_00005679d.jpg    0         0                 0                 0   \n",
       "3       ID_00008ce3c.jpg    0         0                 0                 0   \n",
       "4       ID_0000950d7.jpg    0         0                 0                 0   \n",
       "...                  ...  ...       ...               ...               ...   \n",
       "752798  ID_ffff82e46.jpg    0         0                 0                 0   \n",
       "752799  ID_ffff922b9.jpg    1         0                 0                 1   \n",
       "752800  ID_ffffb670a.jpg    1         0                 0                 0   \n",
       "752801  ID_ffffcbff8.jpg    0         0                 0                 0   \n",
       "752802  ID_fffff9393.jpg    0         0                 0                 0   \n",
       "\n",
       "        subarachnoid  subdural  category  \n",
       "0                  0         0         0  \n",
       "1                  0         0         0  \n",
       "2                  0         0         0  \n",
       "3                  0         0         0  \n",
       "4                  0         0         0  \n",
       "...              ...       ...       ...  \n",
       "752798             0         0         0  \n",
       "752799             0         0         3  \n",
       "752800             1         0         4  \n",
       "752801             0         0         0  \n",
       "752802             0         0         0  \n",
       "\n",
       "[752803 rows x 8 columns]"
      ]
     },
     "metadata": {},
     "output_type": "display_data"
    }
   ],
   "source": [
    "\"\"\"\n",
    "In the conditions list, the in-line comment explains which categorical dummy variable that relates to the column.\n",
    "These are explained here as well: \n",
    "normal case = 0 (i.e. no hemorrhage)\n",
    "epidural = 1; intraparenchymal = 2; intraventricular = 3; subarachnoid = 4; subdural = 5; multiple = 6\n",
    "\"\"\"\n",
    "conditions = [\n",
    "    # the 'multiple' case (i.e. has a 1 in two or more columns, not including 'any' column)\n",
    "    # .gt(1) :=  test for greater than 1\n",
    "    labels[['epidural', 'intraparenchymal', 'intraventricular', 'subarachnoid', 'subdural']].sum(1).gt(1),   # 6\n",
    "    labels['epidural'] == 1,   # 1\n",
    "    labels['intraparenchymal'] == 1,   # 2\n",
    "    labels['intraventricular'] == 1,   # 3\n",
    "    labels['subarachnoid'] == 1,   #4\n",
    "    labels['subdural'] == 1,   #5\n",
    "]\n",
    "outputs = [6, 1, 2, 3, 4, 5]\n",
    "\n",
    "# np.nan characteristic sets the default case (i.e. the 'normal' or no hemorrhage case as NaN so we can remove easily)\n",
    "# this could be changed to a zero if necessary \n",
    "dummy = np.select(conditions, outputs, 0)\n",
    "dummy = pd.Series(dummy)\n",
    "dummy.name = \"category\"\n",
    "\n",
    "labels_cat = pd.concat([labels, dummy], axis=1)\n",
    "labels_cat['Image'] =  labels_cat['Image'] + '.jpg'\n",
    "\n",
    "display(labels_cat)"
   ]
  },
  {
   "cell_type": "code",
   "execution_count": 4,
   "id": "47ff597f",
   "metadata": {
    "scrolled": false
   },
   "outputs": [],
   "source": [
    "import glob, os\n",
    "\n",
    "test = []\n",
    "imagedir = []\n",
    "imagename = []\n",
    "c = 0\n",
    "\n",
    "for filename in glob.iglob(file_dir + 'renders/**', recursive=True):\n",
    "    if os.path.isfile(filename):\n",
    "        test.append(filename)\n",
    "        dirname, basename = os.path.split(test[c])\n",
    "        imagedir.append(dirname)\n",
    "        imagename.append(basename)\n",
    "        c += 1 # filter dirs"
   ]
  },
  {
   "cell_type": "code",
   "execution_count": 5,
   "id": "f2c77fa0",
   "metadata": {},
   "outputs": [
    {
     "data": {
      "text/plain": [
       "465390"
      ]
     },
     "metadata": {},
     "output_type": "display_data"
    }
   ],
   "source": [
    "display(len(test))"
   ]
  },
  {
   "cell_type": "code",
   "execution_count": 6,
   "id": "44c19237",
   "metadata": {},
   "outputs": [
    {
     "data": {
      "text/html": [
       "<div>\n",
       "<style scoped>\n",
       "    .dataframe tbody tr th:only-of-type {\n",
       "        vertical-align: middle;\n",
       "    }\n",
       "\n",
       "    .dataframe tbody tr th {\n",
       "        vertical-align: top;\n",
       "    }\n",
       "\n",
       "    .dataframe thead th {\n",
       "        text-align: right;\n",
       "    }\n",
       "</style>\n",
       "<table border=\"1\" class=\"dataframe\">\n",
       "  <thead>\n",
       "    <tr style=\"text-align: right;\">\n",
       "      <th></th>\n",
       "      <th>image_path</th>\n",
       "      <th>Image</th>\n",
       "    </tr>\n",
       "  </thead>\n",
       "  <tbody>\n",
       "    <tr>\n",
       "      <th>0</th>\n",
       "      <td>C:/Users/ewild/Documents/School/2022 Spring/72...</td>\n",
       "      <td>ID_000edbf38.jpg</td>\n",
       "    </tr>\n",
       "    <tr>\n",
       "      <th>1</th>\n",
       "      <td>C:/Users/ewild/Documents/School/2022 Spring/72...</td>\n",
       "      <td>ID_00178eb80.jpg</td>\n",
       "    </tr>\n",
       "    <tr>\n",
       "      <th>2</th>\n",
       "      <td>C:/Users/ewild/Documents/School/2022 Spring/72...</td>\n",
       "      <td>ID_001bb2c00.jpg</td>\n",
       "    </tr>\n",
       "    <tr>\n",
       "      <th>3</th>\n",
       "      <td>C:/Users/ewild/Documents/School/2022 Spring/72...</td>\n",
       "      <td>ID_0026de01c.jpg</td>\n",
       "    </tr>\n",
       "    <tr>\n",
       "      <th>4</th>\n",
       "      <td>C:/Users/ewild/Documents/School/2022 Spring/72...</td>\n",
       "      <td>ID_004966e2d.jpg</td>\n",
       "    </tr>\n",
       "    <tr>\n",
       "      <th>...</th>\n",
       "      <td>...</td>\n",
       "      <td>...</td>\n",
       "    </tr>\n",
       "    <tr>\n",
       "      <th>465385</th>\n",
       "      <td>C:/Users/ewild/Documents/School/2022 Spring/72...</td>\n",
       "      <td>ID_fff24b028.jpg</td>\n",
       "    </tr>\n",
       "    <tr>\n",
       "      <th>465386</th>\n",
       "      <td>C:/Users/ewild/Documents/School/2022 Spring/72...</td>\n",
       "      <td>ID_fff49fa03.jpg</td>\n",
       "    </tr>\n",
       "    <tr>\n",
       "      <th>465387</th>\n",
       "      <td>C:/Users/ewild/Documents/School/2022 Spring/72...</td>\n",
       "      <td>ID_fff4c8969.jpg</td>\n",
       "    </tr>\n",
       "    <tr>\n",
       "      <th>465388</th>\n",
       "      <td>C:/Users/ewild/Documents/School/2022 Spring/72...</td>\n",
       "      <td>ID_fff4dc2f1.jpg</td>\n",
       "    </tr>\n",
       "    <tr>\n",
       "      <th>465389</th>\n",
       "      <td>C:/Users/ewild/Documents/School/2022 Spring/72...</td>\n",
       "      <td>ID_fffb16e96.jpg</td>\n",
       "    </tr>\n",
       "  </tbody>\n",
       "</table>\n",
       "<p>465390 rows × 2 columns</p>\n",
       "</div>"
      ],
      "text/plain": [
       "                                               image_path             Image\n",
       "0       C:/Users/ewild/Documents/School/2022 Spring/72...  ID_000edbf38.jpg\n",
       "1       C:/Users/ewild/Documents/School/2022 Spring/72...  ID_00178eb80.jpg\n",
       "2       C:/Users/ewild/Documents/School/2022 Spring/72...  ID_001bb2c00.jpg\n",
       "3       C:/Users/ewild/Documents/School/2022 Spring/72...  ID_0026de01c.jpg\n",
       "4       C:/Users/ewild/Documents/School/2022 Spring/72...  ID_004966e2d.jpg\n",
       "...                                                   ...               ...\n",
       "465385  C:/Users/ewild/Documents/School/2022 Spring/72...  ID_fff24b028.jpg\n",
       "465386  C:/Users/ewild/Documents/School/2022 Spring/72...  ID_fff49fa03.jpg\n",
       "465387  C:/Users/ewild/Documents/School/2022 Spring/72...  ID_fff4c8969.jpg\n",
       "465388  C:/Users/ewild/Documents/School/2022 Spring/72...  ID_fff4dc2f1.jpg\n",
       "465389  C:/Users/ewild/Documents/School/2022 Spring/72...  ID_fffb16e96.jpg\n",
       "\n",
       "[465390 rows x 2 columns]"
      ]
     },
     "metadata": {},
     "output_type": "display_data"
    }
   ],
   "source": [
    "img = pd.DataFrame([imagedir, imagename], index=['image_path', 'Image']).T.explode('Image')\n",
    "display(img)"
   ]
  },
  {
   "cell_type": "code",
   "execution_count": 7,
   "id": "ec82c6ba",
   "metadata": {},
   "outputs": [],
   "source": [
    "sample = 100\n",
    "img = img.sample(n = sample, replace = False, random_state = 0)"
   ]
  },
  {
   "cell_type": "code",
   "execution_count": 8,
   "id": "546eb890",
   "metadata": {},
   "outputs": [
    {
     "data": {
      "text/html": [
       "<div>\n",
       "<style scoped>\n",
       "    .dataframe tbody tr th:only-of-type {\n",
       "        vertical-align: middle;\n",
       "    }\n",
       "\n",
       "    .dataframe tbody tr th {\n",
       "        vertical-align: top;\n",
       "    }\n",
       "\n",
       "    .dataframe thead th {\n",
       "        text-align: right;\n",
       "    }\n",
       "</style>\n",
       "<table border=\"1\" class=\"dataframe\">\n",
       "  <thead>\n",
       "    <tr style=\"text-align: right;\">\n",
       "      <th></th>\n",
       "      <th>image_path</th>\n",
       "      <th>Image</th>\n",
       "      <th>any</th>\n",
       "      <th>epidural</th>\n",
       "      <th>intraparenchymal</th>\n",
       "      <th>intraventricular</th>\n",
       "      <th>subarachnoid</th>\n",
       "      <th>subdural</th>\n",
       "      <th>category</th>\n",
       "    </tr>\n",
       "  </thead>\n",
       "  <tbody>\n",
       "    <tr>\n",
       "      <th>0</th>\n",
       "      <td>NaN</td>\n",
       "      <td>ID_000012eaf.jpg</td>\n",
       "      <td>0</td>\n",
       "      <td>0</td>\n",
       "      <td>0</td>\n",
       "      <td>0</td>\n",
       "      <td>0</td>\n",
       "      <td>0</td>\n",
       "      <td>0</td>\n",
       "    </tr>\n",
       "    <tr>\n",
       "      <th>1</th>\n",
       "      <td>NaN</td>\n",
       "      <td>ID_000039fa0.jpg</td>\n",
       "      <td>0</td>\n",
       "      <td>0</td>\n",
       "      <td>0</td>\n",
       "      <td>0</td>\n",
       "      <td>0</td>\n",
       "      <td>0</td>\n",
       "      <td>0</td>\n",
       "    </tr>\n",
       "    <tr>\n",
       "      <th>2</th>\n",
       "      <td>NaN</td>\n",
       "      <td>ID_00005679d.jpg</td>\n",
       "      <td>0</td>\n",
       "      <td>0</td>\n",
       "      <td>0</td>\n",
       "      <td>0</td>\n",
       "      <td>0</td>\n",
       "      <td>0</td>\n",
       "      <td>0</td>\n",
       "    </tr>\n",
       "    <tr>\n",
       "      <th>3</th>\n",
       "      <td>NaN</td>\n",
       "      <td>ID_00008ce3c.jpg</td>\n",
       "      <td>0</td>\n",
       "      <td>0</td>\n",
       "      <td>0</td>\n",
       "      <td>0</td>\n",
       "      <td>0</td>\n",
       "      <td>0</td>\n",
       "      <td>0</td>\n",
       "    </tr>\n",
       "    <tr>\n",
       "      <th>4</th>\n",
       "      <td>NaN</td>\n",
       "      <td>ID_0000950d7.jpg</td>\n",
       "      <td>0</td>\n",
       "      <td>0</td>\n",
       "      <td>0</td>\n",
       "      <td>0</td>\n",
       "      <td>0</td>\n",
       "      <td>0</td>\n",
       "      <td>0</td>\n",
       "    </tr>\n",
       "    <tr>\n",
       "      <th>...</th>\n",
       "      <td>...</td>\n",
       "      <td>...</td>\n",
       "      <td>...</td>\n",
       "      <td>...</td>\n",
       "      <td>...</td>\n",
       "      <td>...</td>\n",
       "      <td>...</td>\n",
       "      <td>...</td>\n",
       "      <td>...</td>\n",
       "    </tr>\n",
       "    <tr>\n",
       "      <th>752798</th>\n",
       "      <td>NaN</td>\n",
       "      <td>ID_ffff82e46.jpg</td>\n",
       "      <td>0</td>\n",
       "      <td>0</td>\n",
       "      <td>0</td>\n",
       "      <td>0</td>\n",
       "      <td>0</td>\n",
       "      <td>0</td>\n",
       "      <td>0</td>\n",
       "    </tr>\n",
       "    <tr>\n",
       "      <th>752799</th>\n",
       "      <td>NaN</td>\n",
       "      <td>ID_ffff922b9.jpg</td>\n",
       "      <td>1</td>\n",
       "      <td>0</td>\n",
       "      <td>0</td>\n",
       "      <td>1</td>\n",
       "      <td>0</td>\n",
       "      <td>0</td>\n",
       "      <td>3</td>\n",
       "    </tr>\n",
       "    <tr>\n",
       "      <th>752800</th>\n",
       "      <td>NaN</td>\n",
       "      <td>ID_ffffb670a.jpg</td>\n",
       "      <td>1</td>\n",
       "      <td>0</td>\n",
       "      <td>0</td>\n",
       "      <td>0</td>\n",
       "      <td>1</td>\n",
       "      <td>0</td>\n",
       "      <td>4</td>\n",
       "    </tr>\n",
       "    <tr>\n",
       "      <th>752801</th>\n",
       "      <td>NaN</td>\n",
       "      <td>ID_ffffcbff8.jpg</td>\n",
       "      <td>0</td>\n",
       "      <td>0</td>\n",
       "      <td>0</td>\n",
       "      <td>0</td>\n",
       "      <td>0</td>\n",
       "      <td>0</td>\n",
       "      <td>0</td>\n",
       "    </tr>\n",
       "    <tr>\n",
       "      <th>752802</th>\n",
       "      <td>NaN</td>\n",
       "      <td>ID_fffff9393.jpg</td>\n",
       "      <td>0</td>\n",
       "      <td>0</td>\n",
       "      <td>0</td>\n",
       "      <td>0</td>\n",
       "      <td>0</td>\n",
       "      <td>0</td>\n",
       "      <td>0</td>\n",
       "    </tr>\n",
       "  </tbody>\n",
       "</table>\n",
       "<p>752803 rows × 9 columns</p>\n",
       "</div>"
      ],
      "text/plain": [
       "       image_path             Image  any  epidural  intraparenchymal  \\\n",
       "0             NaN  ID_000012eaf.jpg    0         0                 0   \n",
       "1             NaN  ID_000039fa0.jpg    0         0                 0   \n",
       "2             NaN  ID_00005679d.jpg    0         0                 0   \n",
       "3             NaN  ID_00008ce3c.jpg    0         0                 0   \n",
       "4             NaN  ID_0000950d7.jpg    0         0                 0   \n",
       "...           ...               ...  ...       ...               ...   \n",
       "752798        NaN  ID_ffff82e46.jpg    0         0                 0   \n",
       "752799        NaN  ID_ffff922b9.jpg    1         0                 0   \n",
       "752800        NaN  ID_ffffb670a.jpg    1         0                 0   \n",
       "752801        NaN  ID_ffffcbff8.jpg    0         0                 0   \n",
       "752802        NaN  ID_fffff9393.jpg    0         0                 0   \n",
       "\n",
       "        intraventricular  subarachnoid  subdural  category  \n",
       "0                      0             0         0         0  \n",
       "1                      0             0         0         0  \n",
       "2                      0             0         0         0  \n",
       "3                      0             0         0         0  \n",
       "4                      0             0         0         0  \n",
       "...                  ...           ...       ...       ...  \n",
       "752798                 0             0         0         0  \n",
       "752799                 1             0         0         3  \n",
       "752800                 0             1         0         4  \n",
       "752801                 0             0         0         0  \n",
       "752802                 0             0         0         0  \n",
       "\n",
       "[752803 rows x 9 columns]"
      ]
     },
     "metadata": {},
     "output_type": "display_data"
    }
   ],
   "source": [
    "#img_nodups = img.drop_duplicates()\n",
    "clabels_dups = pd.merge(img, labels_cat, on=[\"Image\"], how = \"right\")\n",
    "clabels_na = clabels_dups.drop_duplicates(subset = \"Image\")\n",
    "clabels_na.reset_index(drop = True, inplace = True)\n",
    "\n",
    "display(clabels_na)"
   ]
  },
  {
   "cell_type": "code",
   "execution_count": 9,
   "id": "b150c7d1",
   "metadata": {},
   "outputs": [
    {
     "data": {
      "text/html": [
       "<div>\n",
       "<style scoped>\n",
       "    .dataframe tbody tr th:only-of-type {\n",
       "        vertical-align: middle;\n",
       "    }\n",
       "\n",
       "    .dataframe tbody tr th {\n",
       "        vertical-align: top;\n",
       "    }\n",
       "\n",
       "    .dataframe thead th {\n",
       "        text-align: right;\n",
       "    }\n",
       "</style>\n",
       "<table border=\"1\" class=\"dataframe\">\n",
       "  <thead>\n",
       "    <tr style=\"text-align: right;\">\n",
       "      <th></th>\n",
       "      <th>image_path</th>\n",
       "      <th>Image</th>\n",
       "      <th>any</th>\n",
       "      <th>epidural</th>\n",
       "      <th>intraparenchymal</th>\n",
       "      <th>intraventricular</th>\n",
       "      <th>subarachnoid</th>\n",
       "      <th>subdural</th>\n",
       "      <th>category</th>\n",
       "    </tr>\n",
       "  </thead>\n",
       "  <tbody>\n",
       "    <tr>\n",
       "      <th>0</th>\n",
       "      <td>C:/Users/ewild/Documents/School/2022 Spring/72...</td>\n",
       "      <td>ID_0002d9086.jpg</td>\n",
       "      <td>0</td>\n",
       "      <td>0</td>\n",
       "      <td>0</td>\n",
       "      <td>0</td>\n",
       "      <td>0</td>\n",
       "      <td>0</td>\n",
       "      <td>0</td>\n",
       "    </tr>\n",
       "    <tr>\n",
       "      <th>1</th>\n",
       "      <td>C:/Users/ewild/Documents/School/2022 Spring/72...</td>\n",
       "      <td>ID_00227fb3a.jpg</td>\n",
       "      <td>0</td>\n",
       "      <td>0</td>\n",
       "      <td>0</td>\n",
       "      <td>0</td>\n",
       "      <td>0</td>\n",
       "      <td>0</td>\n",
       "      <td>0</td>\n",
       "    </tr>\n",
       "    <tr>\n",
       "      <th>2</th>\n",
       "      <td>C:/Users/ewild/Documents/School/2022 Spring/72...</td>\n",
       "      <td>ID_00a421e28.jpg</td>\n",
       "      <td>0</td>\n",
       "      <td>0</td>\n",
       "      <td>0</td>\n",
       "      <td>0</td>\n",
       "      <td>0</td>\n",
       "      <td>0</td>\n",
       "      <td>0</td>\n",
       "    </tr>\n",
       "    <tr>\n",
       "      <th>3</th>\n",
       "      <td>C:/Users/ewild/Documents/School/2022 Spring/72...</td>\n",
       "      <td>ID_013bff525.jpg</td>\n",
       "      <td>1</td>\n",
       "      <td>0</td>\n",
       "      <td>1</td>\n",
       "      <td>0</td>\n",
       "      <td>1</td>\n",
       "      <td>0</td>\n",
       "      <td>6</td>\n",
       "    </tr>\n",
       "    <tr>\n",
       "      <th>4</th>\n",
       "      <td>C:/Users/ewild/Documents/School/2022 Spring/72...</td>\n",
       "      <td>ID_0aec3f605.jpg</td>\n",
       "      <td>1</td>\n",
       "      <td>0</td>\n",
       "      <td>0</td>\n",
       "      <td>0</td>\n",
       "      <td>0</td>\n",
       "      <td>1</td>\n",
       "      <td>5</td>\n",
       "    </tr>\n",
       "    <tr>\n",
       "      <th>...</th>\n",
       "      <td>...</td>\n",
       "      <td>...</td>\n",
       "      <td>...</td>\n",
       "      <td>...</td>\n",
       "      <td>...</td>\n",
       "      <td>...</td>\n",
       "      <td>...</td>\n",
       "      <td>...</td>\n",
       "      <td>...</td>\n",
       "    </tr>\n",
       "    <tr>\n",
       "      <th>95</th>\n",
       "      <td>C:/Users/ewild/Documents/School/2022 Spring/72...</td>\n",
       "      <td>ID_fa1c52d1f.jpg</td>\n",
       "      <td>1</td>\n",
       "      <td>0</td>\n",
       "      <td>0</td>\n",
       "      <td>0</td>\n",
       "      <td>1</td>\n",
       "      <td>1</td>\n",
       "      <td>6</td>\n",
       "    </tr>\n",
       "    <tr>\n",
       "      <th>96</th>\n",
       "      <td>C:/Users/ewild/Documents/School/2022 Spring/72...</td>\n",
       "      <td>ID_fbe8892cc.jpg</td>\n",
       "      <td>1</td>\n",
       "      <td>0</td>\n",
       "      <td>0</td>\n",
       "      <td>0</td>\n",
       "      <td>1</td>\n",
       "      <td>0</td>\n",
       "      <td>4</td>\n",
       "    </tr>\n",
       "    <tr>\n",
       "      <th>97</th>\n",
       "      <td>C:/Users/ewild/Documents/School/2022 Spring/72...</td>\n",
       "      <td>ID_fc464f1b3.jpg</td>\n",
       "      <td>1</td>\n",
       "      <td>0</td>\n",
       "      <td>0</td>\n",
       "      <td>0</td>\n",
       "      <td>1</td>\n",
       "      <td>1</td>\n",
       "      <td>6</td>\n",
       "    </tr>\n",
       "    <tr>\n",
       "      <th>98</th>\n",
       "      <td>C:/Users/ewild/Documents/School/2022 Spring/72...</td>\n",
       "      <td>ID_fda990c87.jpg</td>\n",
       "      <td>1</td>\n",
       "      <td>0</td>\n",
       "      <td>0</td>\n",
       "      <td>0</td>\n",
       "      <td>1</td>\n",
       "      <td>1</td>\n",
       "      <td>6</td>\n",
       "    </tr>\n",
       "    <tr>\n",
       "      <th>99</th>\n",
       "      <td>C:/Users/ewild/Documents/School/2022 Spring/72...</td>\n",
       "      <td>ID_ff62735bd.jpg</td>\n",
       "      <td>1</td>\n",
       "      <td>0</td>\n",
       "      <td>0</td>\n",
       "      <td>1</td>\n",
       "      <td>0</td>\n",
       "      <td>0</td>\n",
       "      <td>3</td>\n",
       "    </tr>\n",
       "  </tbody>\n",
       "</table>\n",
       "<p>100 rows × 9 columns</p>\n",
       "</div>"
      ],
      "text/plain": [
       "                                           image_path             Image  any  \\\n",
       "0   C:/Users/ewild/Documents/School/2022 Spring/72...  ID_0002d9086.jpg    0   \n",
       "1   C:/Users/ewild/Documents/School/2022 Spring/72...  ID_00227fb3a.jpg    0   \n",
       "2   C:/Users/ewild/Documents/School/2022 Spring/72...  ID_00a421e28.jpg    0   \n",
       "3   C:/Users/ewild/Documents/School/2022 Spring/72...  ID_013bff525.jpg    1   \n",
       "4   C:/Users/ewild/Documents/School/2022 Spring/72...  ID_0aec3f605.jpg    1   \n",
       "..                                                ...               ...  ...   \n",
       "95  C:/Users/ewild/Documents/School/2022 Spring/72...  ID_fa1c52d1f.jpg    1   \n",
       "96  C:/Users/ewild/Documents/School/2022 Spring/72...  ID_fbe8892cc.jpg    1   \n",
       "97  C:/Users/ewild/Documents/School/2022 Spring/72...  ID_fc464f1b3.jpg    1   \n",
       "98  C:/Users/ewild/Documents/School/2022 Spring/72...  ID_fda990c87.jpg    1   \n",
       "99  C:/Users/ewild/Documents/School/2022 Spring/72...  ID_ff62735bd.jpg    1   \n",
       "\n",
       "    epidural  intraparenchymal  intraventricular  subarachnoid  subdural  \\\n",
       "0          0                 0                 0             0         0   \n",
       "1          0                 0                 0             0         0   \n",
       "2          0                 0                 0             0         0   \n",
       "3          0                 1                 0             1         0   \n",
       "4          0                 0                 0             0         1   \n",
       "..       ...               ...               ...           ...       ...   \n",
       "95         0                 0                 0             1         1   \n",
       "96         0                 0                 0             1         0   \n",
       "97         0                 0                 0             1         1   \n",
       "98         0                 0                 0             1         1   \n",
       "99         0                 0                 1             0         0   \n",
       "\n",
       "    category  \n",
       "0          0  \n",
       "1          0  \n",
       "2          0  \n",
       "3          6  \n",
       "4          5  \n",
       "..       ...  \n",
       "95         6  \n",
       "96         4  \n",
       "97         6  \n",
       "98         6  \n",
       "99         3  \n",
       "\n",
       "[100 rows x 9 columns]"
      ]
     },
     "metadata": {},
     "output_type": "display_data"
    }
   ],
   "source": [
    "clabels = clabels_na.dropna()\n",
    "clabels.reset_index(drop = True, inplace = True)\n",
    "display(clabels)\n",
    "\n",
    "y=clabels[\"category\"]"
   ]
  },
  {
   "cell_type": "code",
   "execution_count": 10,
   "id": "5d480afa",
   "metadata": {},
   "outputs": [
    {
     "data": {
      "text/plain": [
       "5    29\n",
       "6    28\n",
       "4    15\n",
       "2    14\n",
       "3    10\n",
       "0     3\n",
       "1     1\n",
       "Name: category, dtype: int64"
      ]
     },
     "metadata": {},
     "output_type": "display_data"
    },
    {
     "data": {
      "text/plain": [
       "<AxesSubplot:xlabel='category', ylabel='count'>"
      ]
     },
     "execution_count": 10,
     "metadata": {},
     "output_type": "execute_result"
    },
    {
     "data": {
      "image/png": "[encoded data removed]",
      "text/plain": [
       "<Figure size 432x288 with 1 Axes>"
      ]
     },
     "metadata": {
      "needs_background": "light"
     },
     "output_type": "display_data"
    }
   ],
   "source": [
    "display(y.value_counts())\n",
    "sns.countplot(x=\"category\", data=clabels)"
   ]
  },
  {
   "cell_type": "code",
   "execution_count": 11,
   "id": "b80d75f2",
   "metadata": {
    "scrolled": true
   },
   "outputs": [
    {
     "name": "stdout",
     "output_type": "stream",
     "text": [
      "0\n"
     ]
    }
   ],
   "source": [
    "# The images are each (512 x 512), so these are arrays of the size of each file's images (512*512 = 262144 columns of pixels) \n",
    "data = np.zeros([100, 262144], dtype='uint8') # 118633 images, 262144 total pixels per image\n",
    "size = []\n",
    "\n",
    "# save the image path in its own dataframe then enumerate through the path list NOT the labels.\n",
    "# then index and reindex the labels\n",
    "\n",
    "m = 0\n",
    "n = 0\n",
    "counter = 0\n",
    "\n",
    "for path, image in zip(clabels.image_path, clabels.Image):\n",
    "    #print(n)\n",
    "    if len(np.mean(matplotlib.image.imread(path + '/' + image),axis=2).reshape(-1)) == 262144:\n",
    "        data[n,:] = np.mean(matplotlib.image.imread(path + '/' + image),axis=2).reshape(-1)\n",
    "        m += 1\n",
    "    else:\n",
    "        size.append(m)\n",
    "        display(path, image)\n",
    "        print(m)\n",
    "        counter += 1\n",
    "        m += 1\n",
    "        continue\n",
    "    n += 1\n",
    "print(counter)"
   ]
  },
  {
   "cell_type": "code",
   "execution_count": 12,
   "id": "6da13481",
   "metadata": {},
   "outputs": [
    {
     "data": {
      "text/plain": [
       "[]"
      ]
     },
     "metadata": {},
     "output_type": "display_data"
    }
   ],
   "source": [
    "display(size)"
   ]
  },
  {
   "cell_type": "code",
   "execution_count": 13,
   "id": "45970a7c",
   "metadata": {},
   "outputs": [
    {
     "data": {
      "text/html": [
       "<div>\n",
       "<style scoped>\n",
       "    .dataframe tbody tr th:only-of-type {\n",
       "        vertical-align: middle;\n",
       "    }\n",
       "\n",
       "    .dataframe tbody tr th {\n",
       "        vertical-align: top;\n",
       "    }\n",
       "\n",
       "    .dataframe thead th {\n",
       "        text-align: right;\n",
       "    }\n",
       "</style>\n",
       "<table border=\"1\" class=\"dataframe\">\n",
       "  <thead>\n",
       "    <tr style=\"text-align: right;\">\n",
       "      <th></th>\n",
       "      <th>image_path</th>\n",
       "      <th>Image</th>\n",
       "      <th>any</th>\n",
       "      <th>epidural</th>\n",
       "      <th>intraparenchymal</th>\n",
       "      <th>intraventricular</th>\n",
       "      <th>subarachnoid</th>\n",
       "      <th>subdural</th>\n",
       "      <th>category</th>\n",
       "    </tr>\n",
       "  </thead>\n",
       "  <tbody>\n",
       "    <tr>\n",
       "      <th>0</th>\n",
       "      <td>C:/Users/ewild/Documents/School/2022 Spring/72...</td>\n",
       "      <td>ID_0002d9086.jpg</td>\n",
       "      <td>0</td>\n",
       "      <td>0</td>\n",
       "      <td>0</td>\n",
       "      <td>0</td>\n",
       "      <td>0</td>\n",
       "      <td>0</td>\n",
       "      <td>0</td>\n",
       "    </tr>\n",
       "    <tr>\n",
       "      <th>1</th>\n",
       "      <td>C:/Users/ewild/Documents/School/2022 Spring/72...</td>\n",
       "      <td>ID_00227fb3a.jpg</td>\n",
       "      <td>0</td>\n",
       "      <td>0</td>\n",
       "      <td>0</td>\n",
       "      <td>0</td>\n",
       "      <td>0</td>\n",
       "      <td>0</td>\n",
       "      <td>0</td>\n",
       "    </tr>\n",
       "    <tr>\n",
       "      <th>2</th>\n",
       "      <td>C:/Users/ewild/Documents/School/2022 Spring/72...</td>\n",
       "      <td>ID_00a421e28.jpg</td>\n",
       "      <td>0</td>\n",
       "      <td>0</td>\n",
       "      <td>0</td>\n",
       "      <td>0</td>\n",
       "      <td>0</td>\n",
       "      <td>0</td>\n",
       "      <td>0</td>\n",
       "    </tr>\n",
       "    <tr>\n",
       "      <th>3</th>\n",
       "      <td>C:/Users/ewild/Documents/School/2022 Spring/72...</td>\n",
       "      <td>ID_013bff525.jpg</td>\n",
       "      <td>1</td>\n",
       "      <td>0</td>\n",
       "      <td>1</td>\n",
       "      <td>0</td>\n",
       "      <td>1</td>\n",
       "      <td>0</td>\n",
       "      <td>6</td>\n",
       "    </tr>\n",
       "    <tr>\n",
       "      <th>4</th>\n",
       "      <td>C:/Users/ewild/Documents/School/2022 Spring/72...</td>\n",
       "      <td>ID_0aec3f605.jpg</td>\n",
       "      <td>1</td>\n",
       "      <td>0</td>\n",
       "      <td>0</td>\n",
       "      <td>0</td>\n",
       "      <td>0</td>\n",
       "      <td>1</td>\n",
       "      <td>5</td>\n",
       "    </tr>\n",
       "    <tr>\n",
       "      <th>...</th>\n",
       "      <td>...</td>\n",
       "      <td>...</td>\n",
       "      <td>...</td>\n",
       "      <td>...</td>\n",
       "      <td>...</td>\n",
       "      <td>...</td>\n",
       "      <td>...</td>\n",
       "      <td>...</td>\n",
       "      <td>...</td>\n",
       "    </tr>\n",
       "    <tr>\n",
       "      <th>95</th>\n",
       "      <td>C:/Users/ewild/Documents/School/2022 Spring/72...</td>\n",
       "      <td>ID_fa1c52d1f.jpg</td>\n",
       "      <td>1</td>\n",
       "      <td>0</td>\n",
       "      <td>0</td>\n",
       "      <td>0</td>\n",
       "      <td>1</td>\n",
       "      <td>1</td>\n",
       "      <td>6</td>\n",
       "    </tr>\n",
       "    <tr>\n",
       "      <th>96</th>\n",
       "      <td>C:/Users/ewild/Documents/School/2022 Spring/72...</td>\n",
       "      <td>ID_fbe8892cc.jpg</td>\n",
       "      <td>1</td>\n",
       "      <td>0</td>\n",
       "      <td>0</td>\n",
       "      <td>0</td>\n",
       "      <td>1</td>\n",
       "      <td>0</td>\n",
       "      <td>4</td>\n",
       "    </tr>\n",
       "    <tr>\n",
       "      <th>97</th>\n",
       "      <td>C:/Users/ewild/Documents/School/2022 Spring/72...</td>\n",
       "      <td>ID_fc464f1b3.jpg</td>\n",
       "      <td>1</td>\n",
       "      <td>0</td>\n",
       "      <td>0</td>\n",
       "      <td>0</td>\n",
       "      <td>1</td>\n",
       "      <td>1</td>\n",
       "      <td>6</td>\n",
       "    </tr>\n",
       "    <tr>\n",
       "      <th>98</th>\n",
       "      <td>C:/Users/ewild/Documents/School/2022 Spring/72...</td>\n",
       "      <td>ID_fda990c87.jpg</td>\n",
       "      <td>1</td>\n",
       "      <td>0</td>\n",
       "      <td>0</td>\n",
       "      <td>0</td>\n",
       "      <td>1</td>\n",
       "      <td>1</td>\n",
       "      <td>6</td>\n",
       "    </tr>\n",
       "    <tr>\n",
       "      <th>99</th>\n",
       "      <td>C:/Users/ewild/Documents/School/2022 Spring/72...</td>\n",
       "      <td>ID_ff62735bd.jpg</td>\n",
       "      <td>1</td>\n",
       "      <td>0</td>\n",
       "      <td>0</td>\n",
       "      <td>1</td>\n",
       "      <td>0</td>\n",
       "      <td>0</td>\n",
       "      <td>3</td>\n",
       "    </tr>\n",
       "  </tbody>\n",
       "</table>\n",
       "<p>100 rows × 9 columns</p>\n",
       "</div>"
      ],
      "text/plain": [
       "                                           image_path             Image  any  \\\n",
       "0   C:/Users/ewild/Documents/School/2022 Spring/72...  ID_0002d9086.jpg    0   \n",
       "1   C:/Users/ewild/Documents/School/2022 Spring/72...  ID_00227fb3a.jpg    0   \n",
       "2   C:/Users/ewild/Documents/School/2022 Spring/72...  ID_00a421e28.jpg    0   \n",
       "3   C:/Users/ewild/Documents/School/2022 Spring/72...  ID_013bff525.jpg    1   \n",
       "4   C:/Users/ewild/Documents/School/2022 Spring/72...  ID_0aec3f605.jpg    1   \n",
       "..                                                ...               ...  ...   \n",
       "95  C:/Users/ewild/Documents/School/2022 Spring/72...  ID_fa1c52d1f.jpg    1   \n",
       "96  C:/Users/ewild/Documents/School/2022 Spring/72...  ID_fbe8892cc.jpg    1   \n",
       "97  C:/Users/ewild/Documents/School/2022 Spring/72...  ID_fc464f1b3.jpg    1   \n",
       "98  C:/Users/ewild/Documents/School/2022 Spring/72...  ID_fda990c87.jpg    1   \n",
       "99  C:/Users/ewild/Documents/School/2022 Spring/72...  ID_ff62735bd.jpg    1   \n",
       "\n",
       "    epidural  intraparenchymal  intraventricular  subarachnoid  subdural  \\\n",
       "0          0                 0                 0             0         0   \n",
       "1          0                 0                 0             0         0   \n",
       "2          0                 0                 0             0         0   \n",
       "3          0                 1                 0             1         0   \n",
       "4          0                 0                 0             0         1   \n",
       "..       ...               ...               ...           ...       ...   \n",
       "95         0                 0                 0             1         1   \n",
       "96         0                 0                 0             1         0   \n",
       "97         0                 0                 0             1         1   \n",
       "98         0                 0                 0             1         1   \n",
       "99         0                 0                 1             0         0   \n",
       "\n",
       "    category  \n",
       "0          0  \n",
       "1          0  \n",
       "2          0  \n",
       "3          6  \n",
       "4          5  \n",
       "..       ...  \n",
       "95         6  \n",
       "96         4  \n",
       "97         6  \n",
       "98         6  \n",
       "99         3  \n",
       "\n",
       "[100 rows x 9 columns]"
      ]
     },
     "metadata": {},
     "output_type": "display_data"
    }
   ],
   "source": [
    "final = clabels.drop(size)\n",
    "final.reset_index(drop = True, inplace = True)\n",
    "display(final)"
   ]
  },
  {
   "cell_type": "code",
   "execution_count": 14,
   "id": "12d2dfe6",
   "metadata": {},
   "outputs": [
    {
     "data": {
      "text/plain": [
       "0"
      ]
     },
     "metadata": {},
     "output_type": "display_data"
    }
   ],
   "source": [
    "#data[0,:].sum(0)\n",
    "#[row, column]\n",
    "#display(data[118524:118632,:].sum())\n",
    "#display(data[9679:9687,:].sum())\n",
    "display(data[100:100,:].sum())"
   ]
  },
  {
   "cell_type": "code",
   "execution_count": 15,
   "id": "dbbd6bb3",
   "metadata": {},
   "outputs": [],
   "source": [
    "result = data[0:100]"
   ]
  },
  {
   "cell_type": "code",
   "execution_count": 16,
   "id": "5b0097e3",
   "metadata": {},
   "outputs": [],
   "source": [
    "#result = pd.DataFrame(result) # X\n",
    "y_any = final[\"any\"] # for the binary case"
   ]
  },
  {
   "cell_type": "code",
   "execution_count": null,
   "id": "0fee9d9a",
   "metadata": {},
   "outputs": [],
   "source": [
    "result['any'] = y_any\n",
    "display(result)"
   ]
  },
  {
   "cell_type": "code",
   "execution_count": 17,
   "id": "0e9f559c",
   "metadata": {
    "scrolled": false
   },
   "outputs": [
    {
     "data": {
      "text/plain": [
       "array([[  0,   0,   0, ...,   0,   0,   0],\n",
       "       [  0,   0,   0, ...,   0,   0,   0],\n",
       "       [  0,   0,   0, ...,  94,  94,  94],\n",
       "       ...,\n",
       "       [  0,   0,   0, ...,   0,   0,   0],\n",
       "       [ 91, 100, 116, ..., 150, 150, 150],\n",
       "       [105, 105, 104, ..., 120, 120, 120]], dtype=uint8)"
      ]
     },
     "metadata": {},
     "output_type": "display_data"
    },
    {
     "data": {
      "image/png": "[encoded data removed]",
      "text/plain": [
       "<Figure size 360x360 with 1 Axes>"
      ]
     },
     "metadata": {
      "needs_background": "light"
     },
     "output_type": "display_data"
    }
   ],
   "source": [
    "display(data)\n",
    "plt.figure(figsize=(5,5));\n",
    "plt.imshow(data[5].reshape(512,512));\n",
    "plt.axis('off');"
   ]
  },
  {
   "cell_type": "markdown",
   "id": "69d07ed4",
   "metadata": {},
   "source": [
    "## Analysis"
   ]
  },
  {
   "cell_type": "code",
   "execution_count": 18,
   "id": "1f9f7fef",
   "metadata": {},
   "outputs": [],
   "source": [
    "y = final['category']"
   ]
  },
  {
   "cell_type": "code",
   "execution_count": 58,
   "id": "17700234",
   "metadata": {},
   "outputs": [
    {
     "name": "stdout",
     "output_type": "stream",
     "text": [
      "(80, 262144) (20, 262144) (80,) (20,)\n"
     ]
    }
   ],
   "source": [
    "X_train, X_test, y_train, y_test = train_test_split(result, y, test_size=0.2, random_state=0)\n",
    "print(X_train.shape, X_test.shape, y_train.shape, y_test.shape)"
   ]
  },
  {
   "cell_type": "code",
   "execution_count": 59,
   "id": "8cd9c9de",
   "metadata": {},
   "outputs": [
    {
     "data": {
      "text/plain": [
       "(80, 512, 512, 1)"
      ]
     },
     "metadata": {},
     "output_type": "display_data"
    },
    {
     "data": {
      "text/plain": [
       "(20, 512, 512, 1)"
      ]
     },
     "metadata": {},
     "output_type": "display_data"
    }
   ],
   "source": [
    "NUM_LABELS = 7\n",
    "\n",
    "## We renormalize the training data since we do not need to flatten it\n",
    "X_train = X_train.astype('float32')\n",
    "X_test = X_test.astype('float32')\n",
    "X_train /= 255\n",
    "X_test /= 255\n",
    "\n",
    "## We have to add an extra dimension to allow for the multiple images we will be creating\n",
    "X_train = X_train.reshape(-1, 512, 512, 1)\n",
    "X_test = X_test.reshape(-1, 512, 512, 1)\n",
    "\n",
    "display(X_train.shape)\n",
    "display(X_test.shape)\n",
    "\n",
    "Y_train = np_utils.to_categorical(y_train, NUM_LABELS)\n",
    "Y_test = np_utils.to_categorical(y_test, NUM_LABELS)"
   ]
  },
  {
   "cell_type": "code",
   "execution_count": 60,
   "id": "b205cac9",
   "metadata": {},
   "outputs": [],
   "source": [
    "keras.backend.clear_session()\n",
    "tf.random.set_seed(42)\n",
    "np.random.seed(42)"
   ]
  },
  {
   "cell_type": "code",
   "execution_count": 61,
   "id": "3a20f641",
   "metadata": {
    "scrolled": false
   },
   "outputs": [
    {
     "name": "stdout",
     "output_type": "stream",
     "text": [
      "Model: \"sequential\"\n",
      "_________________________________________________________________\n",
      " Layer (type)                Output Shape              Param #   \n",
      "=================================================================\n",
      " conv2d (Conv2D)             (None, 385, 385, 32)      524320    \n",
      "                                                                 \n",
      " max_pooling2d (MaxPooling2D  (None, 96, 96, 32)       0         \n",
      " )                                                               \n",
      "                                                                 \n",
      " batch_normalization (BatchN  (None, 96, 96, 32)       128       \n",
      " ormalization)                                                   \n",
      "                                                                 \n",
      " conv2d_1 (Conv2D)           (None, 65, 65, 64)        2097216   \n",
      "                                                                 \n",
      " max_pooling2d_1 (MaxPooling  (None, 16, 16, 64)       0         \n",
      " 2D)                                                             \n",
      "                                                                 \n",
      " batch_normalization_1 (Batc  (None, 16, 16, 64)       256       \n",
      " hNormalization)                                                 \n",
      "                                                                 \n",
      " conv2d_2 (Conv2D)           (None, 9, 9, 128)         524416    \n",
      "                                                                 \n",
      " max_pooling2d_2 (MaxPooling  (None, 2, 2, 128)        0         \n",
      " 2D)                                                             \n",
      "                                                                 \n",
      " batch_normalization_2 (Batc  (None, 2, 2, 128)        512       \n",
      " hNormalization)                                                 \n",
      "                                                                 \n",
      " dropout (Dropout)           (None, 2, 2, 128)         0         \n",
      "                                                                 \n",
      " flatten (Flatten)           (None, 512)               0         \n",
      "                                                                 \n",
      " dense (Dense)               (None, 128)               65664     \n",
      "                                                                 \n",
      " dropout_1 (Dropout)         (None, 128)               0         \n",
      "                                                                 \n",
      " dense_1 (Dense)             (None, 7)                 903       \n",
      "                                                                 \n",
      "=================================================================\n",
      "Total params: 3,213,415\n",
      "Trainable params: 3,212,967\n",
      "Non-trainable params: 448\n",
      "_________________________________________________________________\n",
      "None\n"
     ]
    }
   ],
   "source": [
    "model = Sequential()\n",
    "\n",
    "model.add(Conv2D(32, (128,128),\n",
    "                 padding='valid',\n",
    "                 input_shape=(512, 512, 1),\n",
    "                 activation='relu'))\n",
    "model.add(MaxPooling2D(pool_size=(4,4)))\n",
    "model.add(BatchNormalization())\n",
    "model.add(Conv2D(64, (32,32),\n",
    "                 activation='relu'))\n",
    "model.add(MaxPooling2D(pool_size=(4,4)))\n",
    "model.add(BatchNormalization())\n",
    "model.add(Conv2D(128, (8,8),\n",
    "                 activation='relu'))\n",
    "model.add(MaxPooling2D(pool_size=(4,4)))\n",
    "model.add(BatchNormalization())\n",
    "model.add(Dropout(0.25))\n",
    "\n",
    "model.add(Flatten())\n",
    "#model.add(Dense(units=490, activation='relu'))\n",
    "#model.add(Dropout(0.5))\n",
    "model.add(Dense(units=128, activation='relu'))\n",
    "model.add(Dropout(0.5))\n",
    "model.add(Dense(units=NUM_LABELS, activation='softmax'))\n",
    "\n",
    "opt = tf.keras.optimizers.SGD(learning_rate=0.01, momentum=0.9, decay=0.01)\n",
    "\n",
    "model.compile(loss='categorical_crossentropy',\n",
    "              optimizer=opt,\n",
    "              metrics=['accuracy'])\n",
    "\n",
    "print(model.summary())"
   ]
  },
  {
   "cell_type": "code",
   "execution_count": null,
   "id": "31485ff0",
   "metadata": {},
   "outputs": [
    {
     "name": "stdout",
     "output_type": "stream",
     "text": [
      "Epoch 1/5\n",
      "80/80 [==============================] - 917s 11s/step - loss: 27.8781 - accuracy: 0.2250 - val_loss: 214.0360 - val_accuracy: 0.1500\n",
      "Epoch 2/5\n",
      "80/80 [==============================] - 939s 12s/step - loss: 31.2081 - accuracy: 0.2375 - val_loss: 511.4502 - val_accuracy: 0.2000\n",
      "Epoch 3/5\n",
      "29/80 [=========>....................] - ETA: 9:20 - loss: 1.9160 - accuracy: 0.2759"
     ]
    }
   ],
   "source": [
    "history = model.fit(X_train, \n",
    "                    Y_train, \n",
    "                    epochs=5, \n",
    "                    batch_size=1,\n",
    "                    verbose=1,\n",
    "                    validation_data=(X_test, Y_test))"
   ]
  },
  {
   "cell_type": "code",
   "execution_count": 24,
   "id": "beb31334",
   "metadata": {},
   "outputs": [
    {
     "data": {
      "image/png": "[encoded data removed]",
      "text/plain": [
       "<Figure size 432x288 with 2 Axes>"
      ]
     },
     "execution_count": 24,
     "metadata": {},
     "output_type": "execute_result"
    },
    {
     "data": {
      "image/png": "[encoded data removed]",
      "text/plain": [
       "<Figure size 432x288 with 2 Axes>"
      ]
     },
     "metadata": {
      "needs_background": "light"
     },
     "output_type": "display_data"
    }
   ],
   "source": [
    "# plotting the metrics\n",
    "fig = plt.figure()\n",
    "plt.subplot(2,1,1)\n",
    "plt.plot(history.history['accuracy'])\n",
    "plt.plot(history.history['val_accuracy'])\n",
    "plt.title('model accuracy')\n",
    "plt.ylabel('accuracy')\n",
    "plt.xlabel('epoch')\n",
    "plt.legend(['train', 'test'], loc='lower right')\n",
    "\n",
    "plt.subplot(2,1,2)\n",
    "plt.plot(history.history['loss'])\n",
    "plt.plot(history.history['val_loss'])\n",
    "plt.title('model loss')\n",
    "plt.ylabel('loss')\n",
    "plt.xlabel('epoch')\n",
    "plt.legend(['train', 'test'], loc='upper right')\n",
    "\n",
    "plt.tight_layout()\n",
    "\n",
    "fig"
   ]
  },
  {
   "cell_type": "markdown",
   "id": "b77bd748",
   "metadata": {},
   "source": [
    "#### Logistic, LDA, QDA on the 7 Categories "
   ]
  },
  {
   "cell_type": "code",
   "execution_count": 49,
   "id": "3af65d10",
   "metadata": {},
   "outputs": [
    {
     "name": "stdout",
     "output_type": "stream",
     "text": [
      "(80, 262144) (20, 262144) (80,) (20,)\n"
     ]
    }
   ],
   "source": [
    "X_train, X_test, y_train, y_test = train_test_split(result, y, test_size=0.2, random_state=0)\n",
    "print(X_train.shape, X_test.shape, y_train.shape, y_test.shape)"
   ]
  },
  {
   "cell_type": "code",
   "execution_count": 50,
   "id": "efb0efcd",
   "metadata": {},
   "outputs": [
    {
     "name": "stderr",
     "output_type": "stream",
     "text": [
      "[Parallel(n_jobs=7)]: Using backend ThreadingBackend with 7 concurrent workers.\n"
     ]
    },
    {
     "name": "stdout",
     "output_type": "stream",
     "text": [
      "max_iter reached after 56 seconds\n",
      "Logistic Regression Score: 0.200\n"
     ]
    },
    {
     "name": "stderr",
     "output_type": "stream",
     "text": [
      "[Parallel(n_jobs=7)]: Done   1 out of   1 | elapsed:   55.8s finished\n"
     ]
    }
   ],
   "source": [
    "## Logistic Regression - with solver Stochastic Average Gradient descent\n",
    "clf = LogisticRegression(solver = 'sag', max_iter = 100, n_jobs = 7, verbose = 1)\n",
    "clf.fit(X_train,y_train)\n",
    "print(\"Logistic Regression Score: %.3f\"%clf.score(X_test,y_test))"
   ]
  },
  {
   "cell_type": "code",
   "execution_count": 51,
   "id": "0a5fff70",
   "metadata": {},
   "outputs": [
    {
     "name": "stdout",
     "output_type": "stream",
     "text": [
      "LDA Score: 0.250\n"
     ]
    }
   ],
   "source": [
    "## Linear Discriminant Analysis\n",
    "lda = LinearDiscriminantAnalysis(store_covariance=False)\n",
    "lda.fit(X_train, y_train)\n",
    "print(\"LDA Score: %.3f\"%lda.score(X_test,y_test))"
   ]
  },
  {
   "cell_type": "code",
   "execution_count": 52,
   "id": "3b756667",
   "metadata": {},
   "outputs": [
    {
     "name": "stdout",
     "output_type": "stream",
     "text": [
      "QDA Score: 0.050\n"
     ]
    }
   ],
   "source": [
    "## Quadratic Discriminant Analysis\n",
    "qda = QuadraticDiscriminantAnalysis(store_covariance=False)\n",
    "qda.fit(X_train, y_train)\n",
    "print(\"QDA Score: %.3f\"%qda.score(X_test,y_test))"
   ]
  },
  {
   "cell_type": "markdown",
   "id": "c2912329",
   "metadata": {},
   "source": [
    "#### Logistic, LDA, QDA for the Normal/Non-normal Categories "
   ]
  },
  {
   "cell_type": "code",
   "execution_count": 53,
   "id": "068ec7f9",
   "metadata": {},
   "outputs": [
    {
     "name": "stdout",
     "output_type": "stream",
     "text": [
      "(80, 262144) (20, 262144) (80,) (20,)\n"
     ]
    }
   ],
   "source": [
    "X_train, X_test, y_train, y_test = train_test_split(result, y_any, test_size=0.2, random_state=0)\n",
    "print(X_train.shape, X_test.shape, y_train.shape, y_test.shape)"
   ]
  },
  {
   "cell_type": "code",
   "execution_count": 54,
   "id": "9ae6c64e",
   "metadata": {},
   "outputs": [
    {
     "name": "stderr",
     "output_type": "stream",
     "text": [
      "[Parallel(n_jobs=7)]: Using backend ThreadingBackend with 7 concurrent workers.\n"
     ]
    },
    {
     "name": "stdout",
     "output_type": "stream",
     "text": [
      "max_iter reached after 14 seconds\n",
      "Logistic Regression Score: 0.950\n"
     ]
    },
    {
     "name": "stderr",
     "output_type": "stream",
     "text": [
      "[Parallel(n_jobs=7)]: Done   1 out of   1 | elapsed:   13.5s finished\n"
     ]
    }
   ],
   "source": [
    "## Logistic Regression - with solver Stochastic Average Gradient descent\n",
    "clf = LogisticRegression(solver = 'sag', max_iter = 100, n_jobs = 7, verbose = 1)\n",
    "clf.fit(X_train,y_train)\n",
    "print(\"Logistic Regression Score: %.3f\"%clf.score(X_test,y_test))"
   ]
  },
  {
   "cell_type": "code",
   "execution_count": 55,
   "id": "5e499dcd",
   "metadata": {},
   "outputs": [
    {
     "name": "stdout",
     "output_type": "stream",
     "text": [
      "LDA Score: 0.950\n"
     ]
    }
   ],
   "source": [
    "## Linear Discriminant Analysis\n",
    "lda = LinearDiscriminantAnalysis(store_covariance=False)\n",
    "lda.fit(X_train, y_train)\n",
    "print(\"LDA Score: %.3f\"%lda.score(X_test,y_test))"
   ]
  },
  {
   "cell_type": "code",
   "execution_count": 56,
   "id": "e566e359",
   "metadata": {},
   "outputs": [
    {
     "name": "stdout",
     "output_type": "stream",
     "text": [
      "QDA Score: 0.450\n"
     ]
    }
   ],
   "source": [
    "## Quadratic Discriminant Analysis\n",
    "qda = QuadraticDiscriminantAnalysis(store_covariance=False)\n",
    "qda.fit(X_train, y_train)\n",
    "print(\"QDA Score: %.3f\"%qda.score(X_test,y_test))"
   ]
  }
 ],
 "metadata": {
  "kernelspec": {
   "display_name": "Python 3 (ipykernel)",
   "language": "python",
   "name": "python3"
  },
  "language_info": {
   "codemirror_mode": {
    "name": "ipython",
    "version": 3
   },
   "file_extension": ".py",
   "mimetype": "text/x-python",
   "name": "python",
   "nbconvert_exporter": "python",
   "pygments_lexer": "ipython3",
   "version": "3.9.0"
  }
 },
 "nbformat": 4,
 "nbformat_minor": 5
}
